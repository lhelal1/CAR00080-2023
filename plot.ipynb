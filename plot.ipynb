
# import libraries

import seaborn as sns
import matplotlib.pyplot as plt

# Create a basic timeline without events
data = {
    "Event": [
        "2000 BCE",
        "1 AC",
        "Present"
    ],
    "StartDate": [
        -2000,
        1,
        2023
    ],
    "EndDate": [
        1,
        2023,
        2023
    ],
    "Category": [
        "Ancient",
        "Historical",
        "Contemporary"
    ]
}

# Define custom color shades for categories
color_palette = {
    "Ancient": "#FF5733",
    "Historical": "#3377FF",
    "Contemporary": "#33FF33"
}

# Create the timeline plot
sns.set(style="whitegrid")
timeline = sns.lmplot(x="StartDate", y="Event", hue="Category", data=data, markers="s", size=5, aspect=2, palette=color_palette)
timeline.set(xlabel="Year", ylabel=None)
plt.title("Evolution of Statistical Methods")

# Customize further with events or labels
# Add annotations or labels to the timeline using plt.annotate, for example
# plt.annotate("Your event label", xy=(event_date,
0.5), xytext=(event_date,
0.6), arrowprops=dict(arrowstyle="->"))

plt.show()
